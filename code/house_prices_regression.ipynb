{
 "cells": [
  {
   "cell_type": "markdown",
   "metadata": {
    "deletable": true,
    "editable": true
   },
   "source": [
    "### House Price Regression and Feature Engineering\n",
    "\n",
    "This was a very interesting competition because of how much I learned through trial and error, and from practicing all the different regression methods/techniques.\n",
    "\n",
    "I submitted over 100 times, and about 50% of my submissions were just to understand which methods worked better. Once that was done I started tuning the parameters, adding more features and ensembling.\n",
    "\n",
    "**Public score: 0.11819**"
   ]
  },
  {
   "cell_type": "code",
   "execution_count": 1,
   "metadata": {
    "collapsed": false,
    "deletable": true,
    "editable": true
   },
   "outputs": [],
   "source": [
    "import pandas as pd\n",
    "import numpy as np\n",
    "from sklearn.model_selection import cross_val_score, train_test_split\n",
    "from sklearn.preprocessing import StandardScaler\n",
    "from sklearn.linear_model import LinearRegression, RidgeCV, LassoCV, ElasticNetCV, ElasticNet, Ridge, Lasso\n",
    "from sklearn.metrics import mean_squared_error, make_scorer\n",
    "from scipy.stats import skew\n",
    "from IPython.display import display\n",
    "import matplotlib.pyplot as plt\n",
    "import seaborn as sns\n",
    "\n",
    "pd.set_option('display.float_format', lambda x: \"%3f\"%x)\n",
    "%matplotlib inline"
   ]
  },
  {
   "cell_type": "code",
   "execution_count": 2,
   "metadata": {
    "collapsed": false,
    "deletable": true,
    "editable": true
   },
   "outputs": [
    {
     "data": {
      "text/plain": [
       "(1460, 81)"
      ]
     },
     "execution_count": 2,
     "metadata": {},
     "output_type": "execute_result"
    }
   ],
   "source": [
    "train = pd.read_csv(\"../data/houseprices/train.csv\")\n",
    "\n",
    "train_shape = train.shape[0]\n",
    "\n",
    "train.shape"
   ]
  },
  {
   "cell_type": "code",
   "execution_count": 3,
   "metadata": {
    "collapsed": false,
    "deletable": true,
    "editable": true
   },
   "outputs": [
    {
     "data": {
      "text/plain": [
       "(1459, 80)"
      ]
     },
     "execution_count": 3,
     "metadata": {},
     "output_type": "execute_result"
    }
   ],
   "source": [
    "test = pd.read_csv(\"../data/houseprices/test.csv\")\n",
    "test.shape"
   ]
  },
  {
   "cell_type": "code",
   "execution_count": 4,
   "metadata": {
    "collapsed": false,
    "deletable": true,
    "editable": true
   },
   "outputs": [],
   "source": [
    "all_data_columns = test.columns\n",
    "\n",
    "y = train.SalePrice\n",
    "train = train[all_data_columns]\n",
    "\n",
    "all_data = pd.concat([train, test])"
   ]
  },
  {
   "cell_type": "code",
   "execution_count": 5,
   "metadata": {
    "collapsed": false,
    "deletable": true,
    "editable": true
   },
   "outputs": [
    {
     "data": {
      "text/plain": [
       "(2919, 80)"
      ]
     },
     "execution_count": 5,
     "metadata": {},
     "output_type": "execute_result"
    }
   ],
   "source": [
    "all_data.shape"
   ]
  },
  {
   "cell_type": "markdown",
   "metadata": {
    "deletable": true,
    "editable": true
   },
   "source": [
    "### Preprocessing"
   ]
  },
  {
   "cell_type": "code",
   "execution_count": 6,
   "metadata": {
    "collapsed": true,
    "deletable": true,
    "editable": true
   },
   "outputs": [],
   "source": [
    "# log transform the sale price\n",
    "y = np.log1p(y)"
   ]
  },
  {
   "cell_type": "markdown",
   "metadata": {
    "deletable": true,
    "editable": true
   },
   "source": [
    "#### Steps to clean up the data\n",
    "\n",
    "1. Replace the empty/NaN values with more relevant values than mean or median where applicable\n",
    "2. Fix up categorical and ordinal data - convert to categorical or numerical \n",
    "3. Group larger categories into smaller number of categories - and turn them into ranks (1,2,3 = 1, 4,5,6 = 2 etc) - using pd.cut?\n",
    "4. Feature engineering - create new features based off the grouped categories (1*x, 2*x where x is related feature)\n",
    "5. Find the most important features and create new features by weighting them much higher (^2, ^3)"
   ]
  },
  {
   "cell_type": "code",
   "execution_count": 7,
   "metadata": {
    "collapsed": false,
    "deletable": true,
    "editable": true
   },
   "outputs": [
    {
     "data": {
      "text/plain": [
       "PoolQC          2909\n",
       "MiscFeature     2814\n",
       "Alley           2721\n",
       "Fence           2348\n",
       "FireplaceQu     1420\n",
       "LotFrontage      486\n",
       "GarageCond       159\n",
       "GarageQual       159\n",
       "GarageYrBlt      159\n",
       "GarageFinish     159\n",
       "GarageType       157\n",
       "BsmtCond          82\n",
       "BsmtExposure      82\n",
       "BsmtQual          81\n",
       "BsmtFinType2      80\n",
       "BsmtFinType1      79\n",
       "MasVnrType        24\n",
       "MasVnrArea        23\n",
       "MSZoning           4\n",
       "BsmtHalfBath       2\n",
       "Utilities          2\n",
       "Functional         2\n",
       "BsmtFullBath       2\n",
       "BsmtFinSF1         1\n",
       "Exterior1st        1\n",
       "Exterior2nd        1\n",
       "BsmtFinSF2         1\n",
       "BsmtUnfSF          1\n",
       "TotalBsmtSF        1\n",
       "SaleType           1\n",
       "Electrical         1\n",
       "KitchenQual        1\n",
       "GarageArea         1\n",
       "GarageCars         1\n",
       "dtype: int64"
      ]
     },
     "execution_count": 7,
     "metadata": {},
     "output_type": "execute_result"
    }
   ],
   "source": [
    "# 1\n",
    "\n",
    "# Data that needs good replacement of NaNs\n",
    "nan_data = all_data.isnull().sum().sort_values(ascending=False)\n",
    "nan_data[nan_data > 0]"
   ]
  },
  {
   "cell_type": "code",
   "execution_count": 8,
   "metadata": {
    "collapsed": false,
    "deletable": true,
    "editable": true
   },
   "outputs": [],
   "source": [
    "# 1\n",
    "\n",
    "all_data.PoolQC.fillna('NA', inplace=True)\n",
    "all_data.MiscFeature.fillna('NA', inplace=True)\n",
    "all_data.Alley.fillna('NA', inplace=True)\n",
    "all_data.Fence.fillna('NA', inplace=True)\n",
    "all_data.FireplaceQu.fillna('NA', inplace=True)\n",
    "all_data.LotFrontage.fillna(0., inplace=True)\n",
    "all_data.GarageCond.fillna('NA', inplace=True)\n",
    "all_data.GarageType.fillna('NA', inplace=True)\n",
    "all_data.GarageFinish.fillna('NA', inplace=True)\n",
    "all_data.GarageQual.fillna('NA', inplace=True)\n",
    "all_data.BsmtExposure.fillna('NA', inplace=True)\n",
    "all_data.BsmtFinType2.fillna('NA', inplace=True)\n",
    "all_data.BsmtFinType1.fillna('NA', inplace=True)\n",
    "all_data.BsmtCond.fillna('NA', inplace=True)\n",
    "all_data.BsmtQual.fillna('NA', inplace=True)\n",
    "all_data.MasVnrType.fillna('None', inplace=True)\n",
    "all_data.MasVnrArea.fillna(0, inplace=True)\n",
    "\n",
    "all_data.GarageArea.fillna(0, inplace=True)\n",
    "all_data.BsmtUnfSF.fillna(0, inplace=True)\n",
    "all_data.BsmtFinSF2.fillna(0, inplace=True)\n",
    "all_data.BsmtFullBath.fillna(0, inplace=True)\n",
    "all_data.BsmtHalfBath.fillna(0, inplace=True)\n",
    "all_data.BsmtFinSF1.fillna(0, inplace=True)\n",
    "all_data.KitchenQual.fillna('TA', inplace=True)\n",
    "all_data.Functional.fillna(0, inplace=True)\n",
    "all_data.Utilities.fillna(0, inplace=True)\n",
    "all_data.MSZoning.fillna(0, inplace=True)\n",
    "all_data.Exterior2nd.fillna(all_data.Exterior2nd.mode().values[0], inplace=True)\n",
    "all_data.Electrical.fillna(all_data.Electrical.mode().values[0], inplace=True)\n",
    "all_data.Exterior1st.fillna(all_data.Exterior1st.mode().values[0], inplace=True)\n",
    "all_data.GarageCars.fillna(0, inplace=True)\n",
    "all_data.TotalBsmtSF.fillna(0, inplace=True)\n",
    "all_data.SaleType.fillna(all_data.SaleType.mode().values[0], inplace=True)\n",
    "all_data.GarageType.fillna(\"NoGarage\", inplace=True)"
   ]
  },
  {
   "cell_type": "code",
   "execution_count": 9,
   "metadata": {
    "collapsed": false,
    "deletable": true,
    "editable": true,
    "scrolled": false
   },
   "outputs": [
    {
     "data": {
      "text/plain": [
       "GarageYrBlt    159\n",
       "dtype: int64"
      ]
     },
     "execution_count": 9,
     "metadata": {},
     "output_type": "execute_result"
    }
   ],
   "source": [
    "# leaving these as None is the best value for it - not missing data - just not applicable\n",
    "nan_data = all_data.isnull().sum().sort_values(ascending=False)\n",
    "nan_data[nan_data > 0]"
   ]
  },
  {
   "cell_type": "code",
   "execution_count": 10,
   "metadata": {
    "collapsed": false,
    "deletable": true,
    "editable": true
   },
   "outputs": [],
   "source": [
    "# 2\n",
    "\n",
    "# Converting categorical data with numerical features into categories \n",
    "# NOTE:- pd.get_dummies will one hot encode these columns now\n",
    "# MSSubClass, MoSold\n",
    "all_data['MSSubClass'] = all_data.MSSubClass.astype('category')\n",
    "all_data['MoSold'] = all_data.MoSold.astype('category')\n",
    "all_data['GarageYrBlt'] = all_data.GarageYrBlt.astype('category')\n",
    "\n",
    "all_data['LotConfig'] = all_data.LotConfig.astype('category')\n",
    "all_data['Neighborhood'] = all_data.Neighborhood.astype('category')\n",
    "all_data['Condition1'] = all_data.Condition1.astype('category')\n",
    "all_data['BldgType'] = all_data.BldgType.astype('category')\n",
    "all_data['HouseStyle'] = all_data.HouseStyle.astype('category')\n",
    "all_data['RoofStyle'] = all_data.RoofStyle.astype('category')\n",
    "all_data['Exterior1st'] = all_data.Exterior1st.astype('category')\n",
    "all_data['MasVnrArea'] = all_data.MasVnrArea.astype('category')\n",
    "\n",
    "all_data['Foundation'] = all_data.Foundation.astype('category')\n",
    "all_data['SaleCondition'] = all_data.SaleCondition.astype('category')\n",
    "all_data['SaleType'] = all_data.SaleType.astype('category')\n",
    "all_data['Exterior2nd'] = all_data.Exterior2nd.astype('category')"
   ]
  },
  {
   "cell_type": "code",
   "execution_count": 11,
   "metadata": {
    "collapsed": false,
    "deletable": true,
    "editable": true
   },
   "outputs": [],
   "source": [
    "# 2\n",
    "\n",
    "# Converting categoricaldata with non-numerical features with rank into ordinal categories\n",
    "# ExterQual, ExterCond, BsmtQual, BsmtCond, BsmtExposure, BsmtFinType1, BsmtFinType2, HeatingQC, KitchenQual\n",
    "# Functional, FireplaceQu, GarageQual, GarageCond, PoolQC, Fence, Alley, LotShape, Utilities, LotConfig,\n",
    "# LandContour, LandSlope\n",
    "all_data['ExterQual'] = all_data.ExterQual.replace(dict(Ex=5, Gd=4, TA=3, Fa=2, Po=1))\n",
    "all_data['ExterCond'] = all_data.ExterCond.replace(dict(Ex=5, Gd=4, TA=3, Fa=2, Po=1))\n",
    "all_data['BsmtQual'] = all_data.BsmtQual.replace(dict(Ex=5, Gd=4, TA=3, Fa=2, Po=1, NA=0))\n",
    "all_data['BsmtCond'] = all_data.BsmtCond.replace(dict(Ex=5, Gd=4, TA=3, Fa=2, Po=1, NA=0))\n",
    "all_data['BsmtExposure'] = all_data.BsmtExposure.replace(dict(Gd=4, Av=3, Mn=2, No=1, NA=0))\n",
    "all_data['BsmtFinType1'] = all_data.BsmtFinType1.replace(dict(GLQ=6, ALQ=5, BLQ=4, Rec=3, LwQ=2, Unf=1, NA=0))\n",
    "all_data['BsmtFinType2'] = all_data.BsmtFinType2.replace(dict(GLQ=6, ALQ=5, BLQ=4, Rec=3, LwQ=2, Unf=1, NA=0))\n",
    "all_data['HeatingQC'] = all_data.HeatingQC.replace(dict(Ex=5, Gd=4, TA=3, Fa=2, Po=1))\n",
    "all_data['KitchenQual'] = all_data.KitchenQual.replace(dict(Ex=5, Gd=4, TA=3, Fa=2, Po=1))\n",
    "all_data['Functional'] = all_data.Functional.replace(dict(Typ=8, Min1=7, Min2=6, Mod=5, Maj1=4, Maj2=3, Sev=2, Sal=1))\n",
    "all_data['FireplaceQu'] = all_data.FireplaceQu.replace(dict(Ex=5, Gd=4, TA=3, Fa=2, Po=1, NA=0))\n",
    "all_data['GarageQual'] = all_data.GarageQual.replace(dict(Ex=5, Gd=4, TA=3, Fa=2, Po=1, NA=0))\n",
    "all_data['GarageCond'] = all_data.GarageCond.replace(dict(Ex=5, Gd=4, TA=3, Fa=2, Po=1, NA=0))\n",
    "all_data['PoolQC'] = all_data.PoolQC.replace(dict(Ex=5, Gd=4, TA=3, Fa=2, NA=1))\n",
    "all_data['Fence'] = all_data.Fence.replace(dict(GdPrv=5, MnPrv=4, GdWo=3, MnWw=2, NA=1))\n",
    "all_data['Alley'] = all_data.Alley.replace(dict(Grvl=3, Pave=2, NA=1))\n",
    "all_data['CatLotShape'] = all_data.LotShape.replace(dict(Reg=4, IR1=3, IR2=2, IR3=1))\n",
    "all_data['Utilities'] = all_data.Utilities.replace(dict(AllPub=4, NoSewr=3, NoSeWa=2, ELO=1))\n",
    "all_data['LotConfig'] = all_data.LotConfig.replace(dict(Inside=5, Corner=4, CulDSac=3, FR2=2, FR3=1))\n",
    "all_data['CatLandContour'] = all_data.LandContour.replace(dict(Lvl=4, Bnk=3, HLS=2, Low=1))\n",
    "all_data['CatLandSlope'] = all_data.LandSlope.replace(dict(Gtl=3, Mod=2, Sev=1))"
   ]
  },
  {
   "cell_type": "code",
   "execution_count": 12,
   "metadata": {
    "collapsed": false,
    "deletable": true,
    "editable": true
   },
   "outputs": [],
   "source": [
    "# 3\n",
    "\n",
    "# Create new features\n",
    "# Simplify existing features - squash into smaller groups\n",
    "# existing features\n",
    "all_data['OverallQual_simple'] = all_data.OverallQual.replace({1:1, 2:1, 3:1, # bad quality\n",
    "                                                        4:2, 5:2, 6:2, # mediocre quality\n",
    "                                                        7:3, 8:3, 9:3, 10:3 # good quality\n",
    "                                                       })\n",
    "all_data['OverallCond_simple'] = all_data.OverallCond.replace({1:1, 2:1, 3:1, # bad quality\n",
    "                                                        4:2, 5:2, 6:2, # mediocre quality\n",
    "                                                        7:3, 8:3, 9:3, 10:3 # good quality\n",
    "                                                       })\n",
    "# convert from categorical to ordinal with smaller groups\n",
    "all_data['ExterQual_simple'] = all_data.ExterQual.replace({5:3, 4:3, 3:2, 2:2, 1:1})\n",
    "all_data['ExterCond_simple'] = all_data.ExterCond.replace({5:3, 4:3, 3:2, 2:2, 1:1})\n",
    "all_data['BsmtQual_simple'] = all_data.BsmtQual.replace({5:3, 4:3, 3:2, 2:2, 1:1})\n",
    "all_data['BsmtCond_simple'] = all_data.BsmtCond.replace({5:3, 4:3, 3:2, 2:2, 1:1})\n",
    "all_data['BsmtFinType1_simple'] = all_data.BsmtFinType1.replace({6:3, 5:3, 4:2, 3:2, 2:1, 1:1})\n",
    "all_data['BsmtFinType2_simple'] = all_data.BsmtFinType2.replace({6:3, 5:3, 4:2, 3:2, 2:1, 1:1})\n",
    "all_data['HeatingQC_simple'] = all_data.HeatingQC.replace({5:3, 4:3, 3:2, 2:2, 1:1})\n",
    "all_data['KitchenQual_simple'] = all_data.KitchenQual.replace({5:3, 4:3, 3:2, 2:2, 1:1})\n",
    "all_data['Functional_simple'] = all_data.Functional.replace({8:4, 7:3, 7:3, 6:3, 5:2,4:2, 3:1, 2:1})\n",
    "all_data['GarageQual_simple'] = all_data.GarageQual.replace({5:3, 4:3, 3:2, 2:2, 1:1})\n",
    "all_data['GarageCond_simple'] = all_data.GarageCond.replace({5:3, 4:3, 3:2, 2:2, 1:1})\n",
    "all_data['PoolQC_simple'] = all_data.PoolQC.replace({5:3, 4:3, 3:2, 2:2, 1:1})\n",
    "all_data['FireplaceQu_simple'] = all_data.FireplaceQu.replace({5:3, 4:3, 3:2, 2:2, 1:1})\n"
   ]
  },
  {
   "cell_type": "code",
   "execution_count": 13,
   "metadata": {
    "collapsed": false,
    "deletable": true,
    "editable": true
   },
   "outputs": [],
   "source": [
    "# Create new features from existing data\n",
    "all_data['TotalBath'] = all_data.FullBath + all_data.BsmtFullBath + 0.5 * (all_data.BsmtHalfBath + all_data.HalfBath)\n",
    "all_data['TotalSF'] = all_data.TotalBsmtSF + all_data.GrLivArea"
   ]
  },
  {
   "cell_type": "code",
   "execution_count": 14,
   "metadata": {
    "collapsed": false,
    "deletable": true,
    "editable": true
   },
   "outputs": [],
   "source": [
    "all_data[\"IsRegularLotShape\"] = (all_data.LotShape == \"Reg\") * 1\n",
    "all_data[\"IsLandLevel\"] = (all_data.LandContour == \"Lvl\") * 1\n",
    "all_data[\"IsLandSlopeGntl\"] = (all_data.LandSlope == \"Gtl\") * 1\n",
    "all_data[\"IsElectricalSBrkr\"] = (all_data.Electrical == \"SBrkr\") * 1\n",
    "all_data[\"IsGarageDetached\"] = (all_data.GarageType == \"Detchd\") * 1\n",
    "all_data[\"IsPavedDrive\"] = (all_data.PavedDrive == \"Y\") * 1\n",
    "all_data[\"HasShed\"] = (all_data.MiscFeature == \"Shed\") * 1"
   ]
  },
  {
   "cell_type": "code",
   "execution_count": 15,
   "metadata": {
    "collapsed": false,
    "deletable": true,
    "editable": true
   },
   "outputs": [],
   "source": [
    "# these features jumped my score from 0.11875 to 0.11833\n",
    "\n",
    "all_data.loc[all_data.Neighborhood == 'NridgHt', \"Neighborhood_Good\"] = 1\n",
    "all_data.loc[all_data.Neighborhood == 'Crawfor', \"Neighborhood_Good\"] = 1\n",
    "all_data.loc[all_data.Neighborhood == 'StoneBr', \"Neighborhood_Good\"] = 1\n",
    "all_data.loc[all_data.Neighborhood == 'Somerst', \"Neighborhood_Good\"] = 1\n",
    "all_data.loc[all_data.Neighborhood == 'NoRidge', \"Neighborhood_Good\"] = 1\n",
    "all_data[\"Neighborhood_Good\"].fillna(0, inplace=True)"
   ]
  },
  {
   "cell_type": "code",
   "execution_count": 16,
   "metadata": {
    "collapsed": false,
    "deletable": true,
    "editable": true
   },
   "outputs": [],
   "source": [
    "# jumped the score from 0.11833 to 0.11819\n",
    "all_data[\"SaleCondition_PriceDown\"] = all_data.SaleCondition.replace(\n",
    "        {'Abnorml': 1, 'Alloca': 1, 'AdjLand': 1, 'Family': 1, 'Normal': 0, 'Partial': 0})\n",
    "\n",
    "# House completed before sale or not\n",
    "all_data[\"BoughtOffPlan\"] = all_data.SaleCondition.replace(\n",
    "    {\"Abnorml\" : 0, \"Alloca\" : 0, \"AdjLand\" : 0, \"Family\" : 0, \"Normal\" : 0, \"Partial\" : 1})\n",
    "\n",
    "\n",
    "area_cols = ['LotFrontage', 'LotArea', 'MasVnrArea', 'BsmtFinSF1', 'BsmtFinSF2', 'BsmtUnfSF',\n",
    "             'TotalBsmtSF', '1stFlrSF', '2ndFlrSF', 'GrLivArea', 'GarageArea', 'WoodDeckSF', \n",
    "             'OpenPorchSF', 'EnclosedPorch', '3SsnPorch', 'ScreenPorch', 'LowQualFinSF', 'PoolArea' ]\n",
    "all_data[\"TotalArea\"] = all_data[area_cols].sum(axis=1)"
   ]
  },
  {
   "cell_type": "code",
   "execution_count": 17,
   "metadata": {
    "collapsed": true,
    "deletable": true,
    "editable": true
   },
   "outputs": [],
   "source": [
    "# If YearRemodAdd != YearBuilt, then a remodeling took place at some point.\n",
    "all_data[\"Remodeled\"] = (all_data[\"YearRemodAdd\"] != all_data[\"YearBuilt\"]) * 1\n",
    "\n",
    "# Did a remodeling happen in the year the house was sold?\n",
    "all_data[\"RecentRemodel\"] = (all_data[\"YearRemodAdd\"] == all_data[\"YrSold\"]) * 1"
   ]
  },
  {
   "cell_type": "code",
   "execution_count": 18,
   "metadata": {
    "collapsed": false,
    "deletable": true,
    "editable": true
   },
   "outputs": [],
   "source": [
    "all_data[\"Age\"] = 2010 - all_data[\"YearBuilt\"]\n",
    "all_data[\"TimeSinceSold\"] = 2010 - all_data[\"YrSold\"]"
   ]
  },
  {
   "cell_type": "code",
   "execution_count": 19,
   "metadata": {
    "collapsed": false,
    "deletable": true,
    "editable": true
   },
   "outputs": [
    {
     "name": "stdout",
     "output_type": "stream",
     "text": [
      "Numerical features : 86\n",
      "Categorical features : 29\n"
     ]
    }
   ],
   "source": [
    "# Differentiate numerical features (minus the target) and categorical features\n",
    "categorical_features = all_data.select_dtypes(include = [\"object\", \"category\"]).columns\n",
    "numerical_features = all_data.select_dtypes(exclude = [\"object\", \"category\"]).columns\n",
    "print(\"Numerical features : \" + str(len(numerical_features)))\n",
    "print(\"Categorical features : \" + str(len(categorical_features)))\n",
    "all_data_num = all_data[numerical_features]\n",
    "all_data_cat = all_data[categorical_features]"
   ]
  },
  {
   "cell_type": "code",
   "execution_count": 20,
   "metadata": {
    "collapsed": false,
    "deletable": true,
    "editable": true
   },
   "outputs": [
    {
     "data": {
      "text/plain": [
       "(0, 159)"
      ]
     },
     "execution_count": 20,
     "metadata": {},
     "output_type": "execute_result"
    }
   ],
   "source": [
    "all_data_num.isnull().values.sum(), all_data_cat.isnull().values.sum()"
   ]
  },
  {
   "cell_type": "code",
   "execution_count": 21,
   "metadata": {
    "collapsed": false,
    "deletable": true,
    "editable": true
   },
   "outputs": [
    {
     "name": "stderr",
     "output_type": "stream",
     "text": [
      "/home/vathsala/.local/lib/python2.7/site-packages/pandas/core/frame.py:2352: SettingWithCopyWarning: \n",
      "A value is trying to be set on a copy of a slice from a DataFrame.\n",
      "Try using .loc[row_indexer,col_indexer] = value instead\n",
      "\n",
      "See the caveats in the documentation: http://pandas.pydata.org/pandas-docs/stable/indexing.html#indexing-view-versus-copy\n",
      "  self[k1] = value[k2]\n"
     ]
    }
   ],
   "source": [
    "# need to log_transform the skewed features to reduce impact of outliers\n",
    "\n",
    "skewness = all_data_num.apply(skew)\n",
    "skewness = skewness[abs(skewness) > 0.5]\n",
    "skewed_features = skewness.index\n",
    "all_data_num[skewed_features] = all_data_num[skewed_features].applymap(np.log1p)"
   ]
  },
  {
   "cell_type": "code",
   "execution_count": 22,
   "metadata": {
    "collapsed": false,
    "deletable": true,
    "editable": true
   },
   "outputs": [],
   "source": [
    "# One hot encoding the categorical variables\n",
    "\n",
    "all_data_cat = pd.get_dummies(all_data_cat)"
   ]
  },
  {
   "cell_type": "markdown",
   "metadata": {
    "deletable": true,
    "editable": true
   },
   "source": [
    "### Modeling"
   ]
  },
  {
   "cell_type": "markdown",
   "metadata": {
    "deletable": true,
    "editable": true
   },
   "source": [
    "- concat all data and scale - split to train and test\n",
    "- split train set to tr and val for training and validation\n",
    "\n",
    "- run GridSearchCV to get XGBoost parameters on tr and test on val\n"
   ]
  },
  {
   "cell_type": "code",
   "execution_count": 23,
   "metadata": {
    "collapsed": false,
    "deletable": true,
    "editable": true
   },
   "outputs": [
    {
     "name": "stdout",
     "output_type": "stream",
     "text": [
      "(1460, 837) (1459, 837)\n"
     ]
    }
   ],
   "source": [
    "all_data = pd.concat([all_data_num, all_data_cat], axis=1)\n",
    "\n",
    "scaler = StandardScaler()\n",
    "all_data[numerical_features] = scaler.fit_transform(all_data[numerical_features])\n",
    "\n",
    "X_train = all_data[:train_shape]\n",
    "X_test = all_data[train_shape:]\n",
    "print X_train.shape, X_test.shape"
   ]
  },
  {
   "cell_type": "code",
   "execution_count": 24,
   "metadata": {
    "collapsed": false,
    "deletable": true,
    "editable": true
   },
   "outputs": [
    {
     "data": {
      "text/plain": [
       "((1095, 837), (365, 837))"
      ]
     },
     "execution_count": 24,
     "metadata": {},
     "output_type": "execute_result"
    }
   ],
   "source": [
    "X_tr, X_val, y_tr, y_val = train_test_split(X_train, y, random_state=3)\n",
    "X_tr = X_tr.as_matrix()\n",
    "X_val = X_val.as_matrix()\n",
    "X_tr.shape, X_val.shape"
   ]
  },
  {
   "cell_type": "markdown",
   "metadata": {
    "deletable": true,
    "editable": true
   },
   "source": [
    "#### Ridge"
   ]
  },
  {
   "cell_type": "code",
   "execution_count": 25,
   "metadata": {
    "collapsed": false,
    "deletable": true,
    "editable": true
   },
   "outputs": [],
   "source": [
    "model_ridge = Ridge(alpha=22)\n",
    "model_ridge.fit(X_train, y)\n",
    "\n",
    "preds_r = model_ridge.predict(X_test)\n",
    "\n",
    "ridge_preds = pd.DataFrame(dict(SalePrice=np.expm1(preds_r), Id=test.Id))"
   ]
  },
  {
   "cell_type": "markdown",
   "metadata": {
    "deletable": true,
    "editable": true
   },
   "source": [
    "#### Lasso"
   ]
  },
  {
   "cell_type": "code",
   "execution_count": 26,
   "metadata": {
    "collapsed": true,
    "deletable": true,
    "editable": true
   },
   "outputs": [],
   "source": [
    "model_lasso = Lasso(alpha=0.00055)\n",
    "model_lasso.fit(X_train, y)\n",
    "\n",
    "preds_l = model_lasso.predict(X_test)\n",
    "\n",
    "lasso_preds = pd.DataFrame(dict(SalePrice=np.expm1(preds_l), Id=test.Id))"
   ]
  },
  {
   "cell_type": "markdown",
   "metadata": {
    "deletable": true,
    "editable": true
   },
   "source": [
    "### XGBoost"
   ]
  },
  {
   "cell_type": "code",
   "execution_count": 27,
   "metadata": {
    "collapsed": false,
    "deletable": true,
    "editable": true
   },
   "outputs": [
    {
     "name": "stderr",
     "output_type": "stream",
     "text": [
      "/home/vathsala/anaconda2/envs/rnd/lib/python2.7/site-packages/sklearn/cross_validation.py:44: DeprecationWarning: This module was deprecated in version 0.18 in favor of the model_selection module into which all the refactored classes and functions are moved. Also note that the interface of the new CV iterators are different from that of this module. This module will be removed in 0.20.\n",
      "  \"This module will be removed in 0.20.\", DeprecationWarning)\n"
     ]
    }
   ],
   "source": [
    "import xgboost as xgb\n",
    "\n",
    "regr = xgb.XGBRegressor(colsample_bytree=0.2,\n",
    "                 gamma=0.0,\n",
    "                 learning_rate=0.01,\n",
    "                 max_depth=4,\n",
    "                 min_child_weight=1.5,\n",
    "                 n_estimators=7200,                                                                  \n",
    "                 reg_alpha=0.9,\n",
    "                 reg_lambda=0.6,\n",
    "                 subsample=0.2,\n",
    "                 seed=42,\n",
    "                 silent=1)\n",
    "\n",
    "# TODO use gridsearch to get the values for the values above"
   ]
  },
  {
   "cell_type": "code",
   "execution_count": 28,
   "metadata": {
    "collapsed": false,
    "deletable": true,
    "editable": true
   },
   "outputs": [
    {
     "data": {
      "text/plain": [
       "XGBRegressor(base_score=0.5, colsample_bylevel=1, colsample_bytree=0.2,\n",
       "       gamma=0.0, learning_rate=0.01, max_delta_step=0, max_depth=4,\n",
       "       min_child_weight=1.5, missing=None, n_estimators=7200, nthread=-1,\n",
       "       objective='reg:linear', reg_alpha=0.9, reg_lambda=0.6,\n",
       "       scale_pos_weight=1, seed=42, silent=1, subsample=0.2)"
      ]
     },
     "execution_count": 28,
     "metadata": {},
     "output_type": "execute_result"
    }
   ],
   "source": [
    "regr.fit(X_tr, y_tr)"
   ]
  },
  {
   "cell_type": "code",
   "execution_count": 30,
   "metadata": {
    "collapsed": false,
    "deletable": true,
    "editable": true
   },
   "outputs": [
    {
     "data": {
      "text/plain": [
       "XGBRegressor(base_score=0.5, colsample_bylevel=1, colsample_bytree=0.2,\n",
       "       gamma=0.0, learning_rate=0.01, max_delta_step=0, max_depth=4,\n",
       "       min_child_weight=1.5, missing=None, n_estimators=7200, nthread=-1,\n",
       "       objective='reg:linear', reg_alpha=0.9, reg_lambda=0.6,\n",
       "       scale_pos_weight=1, seed=42, silent=1, subsample=0.2)"
      ]
     },
     "execution_count": 30,
     "metadata": {},
     "output_type": "execute_result"
    }
   ],
   "source": [
    "regr.fit(X_train, y)"
   ]
  },
  {
   "cell_type": "code",
   "execution_count": 31,
   "metadata": {
    "collapsed": true,
    "deletable": true,
    "editable": true
   },
   "outputs": [],
   "source": [
    "y_pred_xgb = regr.predict(X_test)"
   ]
  },
  {
   "cell_type": "markdown",
   "metadata": {
    "deletable": true,
    "editable": true
   },
   "source": [
    "### Ensembling"
   ]
  },
  {
   "cell_type": "code",
   "execution_count": 32,
   "metadata": {
    "collapsed": false,
    "deletable": true,
    "editable": true
   },
   "outputs": [
    {
     "data": {
      "text/plain": [
       "<matplotlib.axes._subplots.AxesSubplot at 0x7f64c4b75450>"
      ]
     },
     "execution_count": 32,
     "metadata": {},
     "output_type": "execute_result"
    },
    {
     "data": {
      "image/png": "[encoded data removed]",
      "text/plain": [
       "<matplotlib.figure.Figure at 0x7f64c449de50>"
      ]
     },
     "metadata": {},
     "output_type": "display_data"
    }
   ],
   "source": [
    "# residuals from best performing method for validation\n",
    "pred_to_plot = pd.DataFrame(dict(best_pred=preds_l, new=y_pred_xgb))\n",
    "pred_to_plot.plot(x='best_pred', y='new', kind='scatter')"
   ]
  },
  {
   "cell_type": "code",
   "execution_count": 33,
   "metadata": {
    "collapsed": true,
    "deletable": true,
    "editable": true
   },
   "outputs": [],
   "source": [
    "preds_c1 = 0.3 * preds_l + 0.4 * preds_r + 0.3 * y_pred_xgb\n",
    "\n",
    "comb_preds = pd.DataFrame(dict(SalePrice=np.expm1(preds_c1), Id=test.Id))\n",
    "comb_preds.to_csv('./submission_comb_lrx.csv', index=False)"
   ]
  },
  {
   "cell_type": "markdown",
   "metadata": {
    "deletable": true,
    "editable": true
   },
   "source": [
    "**Sources: **\n",
    "\n",
    "- https://www.kaggle.com/juliencs/a-study-on-regression-applied-to-the-ames-dataset\n",
    "- https://www.kaggle.com/humananalog/xgboost-lasso/code\n",
    "- http://blog.kaggle.com/2016/12/27/a-kagglers-guide-to-model-stacking-in-practice/\n",
    "- http://blog.kaggle.com/2017/06/15/stacking-made-easy-an-introduction-to-stacknet-by-competitions-grandmaster-marios-michailidis-kazanova"
   ]
  }
 ],
 "metadata": {
  "anaconda-cloud": {},
  "kernelspec": {
   "display_name": "Python [conda env:rnd]",
   "language": "python",
   "name": "conda-env-rnd-py"
  },
  "language_info": {
   "codemirror_mode": {
    "name": "ipython",
    "version": 2
   },
   "file_extension": ".py",
   "mimetype": "text/x-python",
   "name": "python",
   "nbconvert_exporter": "python",
   "pygments_lexer": "ipython2",
   "version": "2.7.12"
  }
 },
 "nbformat": 4,
 "nbformat_minor": 1
}
